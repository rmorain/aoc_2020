{
 "cells": [
  {
   "cell_type": "code",
   "execution_count": 47,
   "metadata": {},
   "outputs": [],
   "source": [
    "with open('day3.txt') as f:\n",
    "    input = []\n",
    "    for line in f: # read rest of lines\n",
    "        input.append(line.strip('\\n'))"
   ]
  },
  {
   "cell_type": "code",
   "execution_count": 53,
   "metadata": {},
   "outputs": [
    {
     "data": {
      "text/plain": [
       "0"
      ]
     },
     "execution_count": 53,
     "metadata": {},
     "output_type": "execute_result"
    }
   ],
   "source": [
    "# Start at top left\n",
    "n = len(input)\n",
    "w = len(input[0])\n",
    "i = 0\n",
    "j = 0\n",
    "dx = 3\n",
    "dy = 1\n",
    "tree_count = 0\n",
    "\n",
    "output = input\n",
    "\n",
    "tree_count = sled(dx, dy)\n",
    "\n",
    "# while i < n:\n",
    "#     if input[i][j] == '#':\n",
    "#         tree_count += 1\n",
    "#         output[i] = replacer(input[i], 'X', j)\n",
    "#     else:\n",
    "#         output[i] = replacer(input[i], 'O', j)\n",
    "#     i += dy\n",
    "#     j += dx\n",
    "#     if j >= w:\n",
    "#         j -= w\n",
    "    \n",
    "tree_count"
   ]
  },
  {
   "cell_type": "code",
   "execution_count": 35,
   "metadata": {},
   "outputs": [],
   "source": [
    "with open('day3_out.txt', 'w') as out:\n",
    "    for line in output:\n",
    "        out.write(line + '\\n')"
   ]
  },
  {
   "cell_type": "code",
   "execution_count": 20,
   "metadata": {},
   "outputs": [],
   "source": [
    "def replacer(s, newstring, index, nofail=False):\n",
    "    # raise an error if index is outside of the string\n",
    "    if not nofail and index not in range(len(s)):\n",
    "        raise ValueError(\"index outside given string\")\n",
    "\n",
    "    # if not erroring, but the index is still not in the correct range..\n",
    "    if index < 0:  # add it to the beginning\n",
    "        return newstring + s\n",
    "    if index > len(s):  # add it to the end\n",
    "        return s + newstring\n",
    "\n",
    "    # insert the new string between \"slices\" of the original\n",
    "    return s[:index] + newstring + s[index + 1:]"
   ]
  },
  {
   "cell_type": "code",
   "execution_count": 51,
   "metadata": {},
   "outputs": [
    {
     "data": {
      "text/plain": [
       "0"
      ]
     },
     "execution_count": 51,
     "metadata": {},
     "output_type": "execute_result"
    }
   ],
   "source": [
    "# part 2\n",
    "# Start at top left\n",
    "n = len(input)\n",
    "w = len(input[0])\n",
    "\n",
    "# Right 1, down 1.\n",
    "# Right 3, down 1. (This is the slope you already checked.)\n",
    "# Right 5, down 1.\n",
    "# Right 7, down 1.\n",
    "# Right 1, down 2.\n",
    "\n",
    "slopes = [(1, 1), (3, 1), (5, 1), (7, 1), (1, 2)]\n",
    "trees_mult = 1\n",
    "for (dx, dy) in slopes:\n",
    "    tree_count = sled(dx, dy)\n",
    "    trees_mult *= tree_count\n",
    "    \n",
    "trees_mult"
   ]
  },
  {
   "cell_type": "code",
   "execution_count": 50,
   "metadata": {},
   "outputs": [],
   "source": [
    "def sled(dx, dy):\n",
    "    i = 0\n",
    "    j = 0\n",
    "    output = input\n",
    "    while i < n:\n",
    "        if input[i][j] == '#':\n",
    "            tree_count += 1\n",
    "            output[i] = replacer(input[i], 'X', j)\n",
    "        else:\n",
    "            output[i] = replacer(input[i], 'O', j)\n",
    "        i += dy\n",
    "        j += dx\n",
    "        if j >= w:\n",
    "            j -= w"
   ]
  },
  {
   "cell_type": "code",
   "execution_count": null,
   "metadata": {},
   "outputs": [],
   "source": []
  }
 ],
 "metadata": {
  "kernelspec": {
   "display_name": "Python 3",
   "language": "python",
   "name": "python3"
  },
  "language_info": {
   "codemirror_mode": {
    "name": "ipython",
    "version": 3
   },
   "file_extension": ".py",
   "mimetype": "text/x-python",
   "name": "python",
   "nbconvert_exporter": "python",
   "pygments_lexer": "ipython3",
   "version": "3.8.3"
  }
 },
 "nbformat": 4,
 "nbformat_minor": 4
}
