{
 "cells": [
  {
   "cell_type": "code",
   "execution_count": 95,
   "metadata": {},
   "outputs": [],
   "source": [
    "with open('day2.txt') as f:\n",
    "    input = []\n",
    "    for line in f: # read rest of lines\n",
    "        minimum, maximum, special_char, pw = parse(line)\n",
    "        input.append(Policy(pw, minimum, maximum, special_char))"
   ]
  },
  {
   "cell_type": "code",
   "execution_count": 96,
   "metadata": {},
   "outputs": [],
   "source": [
    "def parse(line):\n",
    "    s = line.split()\n",
    "    minimum = int(s[0].split('-')[0])\n",
    "    maximum = int(s[0].split('-')[1])\n",
    "    special_char = s[1][0]\n",
    "    pw = s[2]\n",
    "    return minimum, maximum, special_char, pw"
   ]
  },
  {
   "cell_type": "code",
   "execution_count": 97,
   "metadata": {},
   "outputs": [],
   "source": [
    "class Policy():\n",
    "    def __init__(self, pw, minimum, maximum, special_char):\n",
    "        self.pw = pw\n",
    "        self.minimum = minimum\n",
    "        self.maximum = maximum\n",
    "        self.special_char = special_char\n",
    "        \n",
    "    def is_valid(self):\n",
    "        count = self.count_special_char(self.pw)\n",
    "        if count >= self.minimum and count <= self.maximum:\n",
    "            return True\n",
    "        else:\n",
    "            return False\n",
    "        \n",
    "    def count_special_char(self, pw):\n",
    "        n = len(pw)\n",
    "        if n == 1:\n",
    "            if pw == self.special_char:\n",
    "                return 1\n",
    "            else:\n",
    "                return 0\n",
    "        count = 0\n",
    "        first_half = pw[:n//2]\n",
    "        second_half = pw[n//2:]\n",
    "        if len(first_half) > 1:\n",
    "            count += self.count_special_char(first_half)\n",
    "        elif first_half == self.special_char:\n",
    "            count += 1\n",
    "        if len(second_half) > 1:\n",
    "            count += self.count_special_char(second_half)\n",
    "        elif second_half == self.special_char:\n",
    "            count += 1\n",
    "        return count"
   ]
  },
  {
   "cell_type": "code",
   "execution_count": 98,
   "metadata": {},
   "outputs": [
    {
     "name": "stdout",
     "output_type": "stream",
     "text": [
      "447 out of 1000 are valid\n"
     ]
    }
   ],
   "source": [
    "valid_count = 0\n",
    "n = len(input)\n",
    "for p in input:\n",
    "    if p.is_valid():\n",
    "        valid_count += 1\n",
    "print(f'{valid_count} out of {n} are valid')"
   ]
  },
  {
   "cell_type": "code",
   "execution_count": 82,
   "metadata": {},
   "outputs": [
    {
     "name": "stdout",
     "output_type": "stream",
     "text": [
      "9\n"
     ]
    },
    {
     "data": {
      "text/plain": [
       "999"
      ]
     },
     "execution_count": 82,
     "metadata": {},
     "output_type": "execute_result"
    }
   ],
   "source": [
    "line = '2-999 c: ccccccccc'\n",
    "minimum, maximum, special_char, pw = parse(line)\n",
    "p = Policy(pw, minimum, maximum, special_char)\n",
    "p.is_valid()\n",
    "p.minimum\n",
    "p.maximum"
   ]
  },
  {
   "cell_type": "code",
   "execution_count": 99,
   "metadata": {},
   "outputs": [
    {
     "data": {
      "text/plain": [
       "249"
      ]
     },
     "execution_count": 99,
     "metadata": {},
     "output_type": "execute_result"
    }
   ],
   "source": [
    "valid_count = 0\n",
    "for p in input:\n",
    "    first = p.pw[p.minimum - 1] == p.special_char\n",
    "    second = p.pw[p.maximum - 1] == p.special_char\n",
    "    if first and second:\n",
    "        continue\n",
    "    if not first and not second:\n",
    "        continue\n",
    "    valid_count += 1\n",
    "valid_count"
   ]
  },
  {
   "cell_type": "code",
   "execution_count": null,
   "metadata": {},
   "outputs": [],
   "source": []
  }
 ],
 "metadata": {
  "kernelspec": {
   "display_name": "Python 3",
   "language": "python",
   "name": "python3"
  },
  "language_info": {
   "codemirror_mode": {
    "name": "ipython",
    "version": 3
   },
   "file_extension": ".py",
   "mimetype": "text/x-python",
   "name": "python",
   "nbconvert_exporter": "python",
   "pygments_lexer": "ipython3",
   "version": "3.8.3"
  }
 },
 "nbformat": 4,
 "nbformat_minor": 4
}
